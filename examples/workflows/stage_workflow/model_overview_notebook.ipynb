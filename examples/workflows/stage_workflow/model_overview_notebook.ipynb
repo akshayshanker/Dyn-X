{
 "cells": [
  {
   "cell_type": "markdown",
   "metadata": {},
   "source": []
  },
  {
   "cell_type": "markdown",
   "metadata": {},
   "source": [
    "## Setup and Imports\n",
    "\n",
    "First, let's set up our environment and import necessary modules:"
   ]
  },
  {
   "cell_type": "code",
   "execution_count": 7,
   "metadata": {},
   "outputs": [
    {
     "name": "stdout",
     "output_type": "stream",
     "text": [
      "ModCraft root: /Users/akshayshanker/Research/Repos/modcraft\n",
      "Source directory: /Users/akshayshanker/Research/Repos/modcraft/src\n",
      "Current working directory: /Users/akshayshanker/Research/Repos/modcraft/examples/stage_workflow\n"
     ]
    }
   ],
   "source": [
    "import os\n",
    "import sys\n",
    "import numpy as np\n",
    "import pprint\n",
    "import matplotlib.pyplot as plt\n",
    "from IPython.display import display, Markdown\n",
    "\n",
    "# Add the modcraft root directory to the Python path\n",
    "# Adjust this if your notebook is not in the examples/StageWorkFlow directory\n",
    "modcraft_root = os.path.abspath(os.path.join(os.getcwd(), '../..'))\n",
    "if modcraft_root not in sys.path:\n",
    "    sys.path.append(modcraft_root)\n",
    "\n",
    "# Check for src directory and add it if needed\n",
    "src_dir = os.path.join(modcraft_root, \"src\")\n",
    "if src_dir not in sys.path:\n",
    "    sys.path.append(src_dir)\n",
    "\n",
    "# Import required modules\n",
    "from stagecraft import Stage\n",
    "from heptapod import model_init, gen_num\n",
    "\n",
    "# Print paths to verify setup\n",
    "print(f\"ModCraft root: {modcraft_root}\")\n",
    "print(f\"Source directory: {src_dir}\")\n",
    "print(f\"Current working directory: {os.getcwd()}\")"
   ]
  },
  {
   "cell_type": "markdown",
   "metadata": {},
   "source": [
    "## Helper Functions\n",
    "\n",
    "We'll define some helper functions to make the model information more readable:"
   ]
  },
  {
   "cell_type": "code",
   "execution_count": 8,
   "metadata": {},
   "outputs": [],
   "source": [
    "def print_section(title):\n",
    "    \"\"\"Print a section header to make output more readable.\"\"\"\n",
    "    display(Markdown(f\"## {title}\"))\n",
    "\n",
    "def print_dict_summary(d, max_items=5, name=\"\", indent=0):\n",
    "    \"\"\"Print a summarized view of a dictionary, skipping empty collections.\"\"\"\n",
    "    indent_str = \" \" * indent\n",
    "    output_lines = []\n",
    "    \n",
    "    if not isinstance(d, dict):\n",
    "        output_lines.append(f\"{indent_str}{name}: {type(d).__name__}\")\n",
    "        print(\"\\n\".join(output_lines))\n",
    "        return\n",
    "        \n",
    "    # Filter out empty collections first\n",
    "    non_empty_items = {k: v for k, v in d.items() if not (isinstance(v, (dict, list, set)) and not v)}\n",
    "    \n",
    "    if not non_empty_items:\n",
    "        output_lines.append(f\"{indent_str}{name}: {{}} (contains only empty collections or is empty)\")\n",
    "        print(\"\\n\".join(output_lines))\n",
    "        return\n",
    "        \n",
    "    output_lines.append(f\"{indent_str}{name}:\")\n",
    "    items_shown_count = 0\n",
    "    for key, value in non_empty_items.items():\n",
    "        if items_shown_count >= max_items:\n",
    "            output_lines.append(f\"{indent_str}  ... ({len(non_empty_items) - max_items} more non-empty items)\")\n",
    "            break\n",
    "            \n",
    "        if isinstance(value, dict):\n",
    "             # Recurse slightly for nested dicts if needed, or just show count\n",
    "             output_lines.append(f\"{indent_str}  {key}: (dict with {len(value)} items)\")\n",
    "        elif isinstance(value, list):\n",
    "            output_lines.append(f\"{indent_str}  {key}: (list with {len(value)} items)\")\n",
    "        elif isinstance(value, np.ndarray):\n",
    "            output_lines.append(f\"{indent_str}  {key}: (array with shape {value.shape} and dtype {value.dtype})\")\n",
    "        elif callable(value):\n",
    "            output_lines.append(f\"{indent_str}  {key}: (callable)\")\n",
    "        else:\n",
    "            output_lines.append(f\"{indent_str}  {key}: {type(value).__name__}\")\n",
    "            \n",
    "        items_shown_count += 1\n",
    "    \n",
    "    print(\"\\n\".join(output_lines))\n",
    "\n",
    "\n",
    "def print_model_summary(model, name=\"Model\"):\n",
    "    \"\"\"Print a summary of a model's structure and contents.\"\"\"\n",
    "    output_lines = [f\"### {name} Summary\"]\n",
    "    \n",
    "    if model is None:\n",
    "        output_lines.append(\"(Model is None)\")\n",
    "        display(Markdown(\"\\n\".join(output_lines)))\n",
    "        return\n",
    "\n",
    "    # Helper to safely get length or return 0\n",
    "    def safe_len(obj):\n",
    "        if hasattr(obj, '__len__'):\n",
    "            return len(obj)\n",
    "        return 0\n",
    "\n",
    "    # Print basic information, checking attribute existence\n",
    "    output_lines.append(f\"**Parameters**: {safe_len(getattr(model, 'parameters', None))} items\")\n",
    "    output_lines.append(f\"**Settings**: {safe_len(getattr(model, 'settings', None))} items\")\n",
    "    output_lines.append(f\"**Methods**: {safe_len(getattr(model, 'methods', None))} items\")\n",
    "    \n",
    "    # Print mathematical components\n",
    "    math = getattr(model, 'math', None)\n",
    "    if isinstance(math, dict) and math:\n",
    "        output_lines.append(\"\\n**Mathematical Components:**\")\n",
    "        display(Markdown(\"\\n\".join(output_lines)))\n",
    "        print_dict_summary(math, name=\"  Math Dict\", indent=2)\n",
    "        output_lines = []\n",
    "    \n",
    "    # Print numerical components if available\n",
    "    num = getattr(model, 'num', None)\n",
    "    if isinstance(num, dict) and num:\n",
    "        output_lines.append(\"\\n**Numerical Components:**\")\n",
    "        display(Markdown(\"\\n\".join(output_lines)))\n",
    "        print_dict_summary(num, name=\"  Num Dict\", indent=2)\n",
    "        output_lines = []\n",
    "        \n",
    "        # Example: Access specific numerical parts like state space grids\n",
    "        state_space = num.get('state_space', {})\n",
    "        if state_space:\n",
    "             grid_lines = [\"    Example Grid Info:\"]\n",
    "             for space_name, space_vars in state_space.items():\n",
    "                  if isinstance(space_vars, dict):\n",
    "                       for var_name, grid_array in space_vars.items():\n",
    "                            if isinstance(grid_array, np.ndarray):\n",
    "                                 grid_lines.append(f\"      - {space_name}.{var_name}: {len(grid_array)} points [{grid_array[0]:.2f} to {grid_array[-1]:.2f}]\")\n",
    "             print(\"\\n\".join(grid_lines))\n",
    "    \n",
    "    # Print operator information for movers\n",
    "    operator = getattr(model, 'operator', None)\n",
    "    if isinstance(operator, dict) and operator:\n",
    "        output_lines.append(\"\\n**Operator:**\")\n",
    "        display(Markdown(\"\\n\".join(output_lines)))\n",
    "        print_dict_summary(operator, name=\"  Details\", indent=2)\n",
    "    \n",
    "    # Display any remaining lines\n",
    "    if output_lines:\n",
    "        display(Markdown(\"\\n\".join(output_lines)))"
   ]
  },
  {
   "cell_type": "markdown",
   "metadata": {},
   "source": [
    "## 1. Model Initialization\n",
    "\n",
    "The first step in working with a ModCraft model is initialization from a configuration file. This process:\n",
    "\n",
    "1. Creates a Stage instance with initialization and numerical representation modules\n",
    "2. Loads the configuration data\n",
    "3. Generates symbolic models for the stage, perches, and movers\n",
    "\n",
    "Let's initialize our Stage:"
   ]
  },
  {
   "cell_type": "code",
   "execution_count": null,
   "metadata": {},
   "outputs": [
    {
     "name": "stdout",
     "output_type": "stream",
     "text": [
      "Loading configuration from: /Users/akshayshanker/Research/Repos/modcraft/examples/stage_workflow/example_config.yml\n",
      "\n",
      "Stage name: ConsumptionSavingsIID\n",
      "Is portable: False\n",
      "\n",
      "Status flags after initialization:\n",
      "{'all_movers_compiled': False,\n",
      " 'all_movers_initialized': True,\n",
      " 'all_perches_compiled': False,\n",
      " 'all_perches_initialized': True,\n",
      " 'compiled': False,\n",
      " 'initialized': True,\n",
      " 'portable': False,\n",
      " 'simulated': False,\n",
      " 'solvable': False,\n",
      " 'solved': False}\n"
     ]
    }
   ],
   "source": [
    "# Get the path to the config file\n",
    "script_dir = os.path.dirname(os.path.abspath(os.getcwd()))\n",
    "config_file = os.path.join(script_dir, 'stage_workflow', 'example_config.yml')\n",
    "\n",
    "# Step 1: Create a Stage with init_rep and num_rep\n",
    "stage = Stage(name=\"ModOverview\", init_rep=model_init, num_rep=gen_num)\n",
    "\n",
    "# Step 2: Load the configuration file\n",
    "print(f\"Loading configuration from: {config_file}\")\n",
    "stage.load_config(config_file)\n",
    "\n",
    "# Display basic information about the stage\n",
    "print(f\"\\nStage name: {stage.name}\")\n",
    "print(f\"Is portable: {stage.status_flags.get('portable', False)}\")\n",
    "\n",
    "print(\"\\nStatus flags after initialization:\")\n",
    "print.print(stage.status_flags)"
   ]
  },
  {
   "cell_type": "markdown",
   "metadata": {},
   "source": [
    "### Understanding Status Flags\n",
    "\n",
    "ModCraft uses a set of status flags to track the state of a model through its lifecycle:\n",
    "\n",
    "- `initialized`: True after configuration has been loaded successfully\n",
    "- `compiled`: True after numerical models have been generated\n",
    "- `solvable`: True when the stage has both value functions and distributions set\n",
    "- `solved`: True once the stage has been solved\n",
    "- `portable`: True if the model can be easily serialized\n",
    "\n",
    "These flags help maintain model integrity and guide the solution process."
   ]
  },
  {
   "cell_type": "markdown",
   "metadata": {},
   "source": [
    "## 2. Stage Model Overview (Initial)\n",
    "\n",
    "Let's examine the structure of the initialized models before numerical compilation:"
   ]
  },
  {
   "cell_type": "code",
   "execution_count": 10,
   "metadata": {},
   "outputs": [
    {
     "name": "stdout",
     "output_type": "stream",
     "text": [
      "Model structure saved to: stage_summary_ConsumptionSavingsIID.md\n",
      "# Stage Summary: ConsumptionSavingsIID\n",
      "\n",
      "## Stage Model\n",
      "parameters:\n",
      "  - beta: float\n",
      "  - r: float\n",
      "  - sigma: float\n",
      "  - gamma: int\n",
      "  - sigma_y: float\n",
      "    ... (1 more non-empty items)\n",
      "settings:\n",
      "  - tol: float\n",
      "  - max_iter: int\n",
      "  - N_shock: int\n",
      "  - n_grid_points: int\n",
      "  - a_min: str\n",
      "    ... (11 more non-empty items)\n",
      "math:\n",
      "  - functions: dict\n",
      "  - constraints: dict\n",
      "  - shocks: dict\n",
      "  - state: dict\n",
      "\n",
      "## Perches\n",
      "### Perch: arvl\n",
      "- sol: NoneType\n",
      "- dist: NoneType\n",
      "- model:\n",
      "    parameters:\n",
      "      - beta: float\n",
      "      - r: float\n",
      "      - sigma: float\n",
      "      - gamma: int\n",
      "      - sigma_y: float\n",
      "        ... (1 more non-empty items)\n",
      "    settings:\n",
      "      - tol: float\n",
      "      - max_iter: int\n",
      "      - N_shock: int\n",
      "      - n_grid_points: int\n",
      "      - a_min: str\n",
      "        ... (11 more non-empty items)\n",
      "    math:\n",
      "      - state: dict\n",
      "\n",
      "### Perch: dcsn\n",
      "- sol: NoneType\n",
      "- dist: NoneType\n",
      "- model:\n",
      "    parameters:\n",
      "      - beta: float\n",
      "      - r: float\n",
      "      - sigma: float\n",
      "      - gamma: int\n",
      "      - sigma_y: float\n",
      "        ... (1 more non-empty items)\n",
      "    settings:\n",
      "      - tol: float\n",
      "      - max_iter: int\n",
      "      - N_shock: int\n",
      "      - n_grid_points: int\n",
      "      - a_min: str\n",
      "        ... (11 more non-empty items)\n",
      "    math:\n",
      "      - state: dict\n",
      "\n",
      "### Perch: cntn\n",
      "- sol: dict\n",
      "- dist: NoneType\n",
      "- model:\n",
      "    parameters:\n",
      "      - beta: float\n",
      "      - r: float\n",
      "      - sigma: float\n",
      "      - gamma: int\n",
      "      - sigma_y: float\n",
      "        ... (1 more non-empty items)\n",
      "    settings:\n",
      "      - tol: float\n",
      "      - max_iter: int\n",
      "      - N_shock: int\n",
      "      - n_grid_points: int\n",
      "      - a_min: str\n",
      "        ... (11 more non-empty items)\n",
      "    math:\n",
      "      - state: dict\n",
      "\n",
      "## Movers\n",
      "### Mover: arvl_to_dcsn (forward)\n",
      "- source: arvl\n",
      "- target: dcsn\n",
      "- model:\n",
      "    parameters:\n",
      "      - beta: float\n",
      "      - r: float\n",
      "      - sigma: float\n",
      "      - gamma: int\n",
      "      - sigma_y: float\n",
      "        ... (1 more non-empty items)\n",
      "    settings:\n",
      "      - tol: float\n",
      "      - max_iter: int\n",
      "      - N_shock: int\n",
      "      - n_grid_points: int\n",
      "      - a_min: str\n",
      "        ... (11 more non-empty items)\n",
      "    math:\n",
      "      - functions: dict\n",
      "      - constraints: dict\n",
      "      - shocks: dict\n",
      "      - state: dict\n",
      "\n",
      "### Mover: dcsn_to_cntn (forward)\n",
      "- source: dcsn\n",
      "- target: cntn\n",
      "- model:\n",
      "    parameters:\n",
      "      - beta: float\n",
      "      - r: float\n",
      "      - sigma: float\n",
      "      - gamma: int\n",
      "      - sigma_y: float\n",
      "        ... (1 more non-empty items)\n",
      "    settings:\n",
      "      - tol: float\n",
      "      - max_iter: int\n",
      "      - N_shock: int\n",
      "      - n_grid_points: int\n",
      "      - a_min: str\n",
      "        ... (11 more non-empty items)\n",
      "    math:\n",
      "      - functions: dict\n",
      "      - constraints: dict\n",
      "      - state: dict\n",
      "\n",
      "### Mover: cntn_to_arvl (forward)\n",
      "- source: cntn\n",
      "- target: arvl\n",
      "- model: None\n",
      "\n",
      "### Mover: dcsn_to_arvl (backward)\n",
      "- source: dcsn\n",
      "- target: arvl\n",
      "- model:\n",
      "    parameters:\n",
      "      - beta: float\n",
      "      - r: float\n",
      "      - sigma: float\n",
      "      - gamma: int\n",
      "      - sigma_y: float\n",
      "        ... (1 more non-empty items)\n",
      "    settings:\n",
      "      - tol: float\n",
      "      - max_iter: int\n",
      "      - N_shock: int\n",
      "      - n_grid_points: int\n",
      "      - a_min: str\n",
      "        ... (11 more non-empty items)\n",
      "    math:\n",
      "      - functions: dict\n",
      "      - constraints: dict\n",
      "      - shocks: dict\n",
      "      - state: dict\n",
      "\n",
      "### Mover: cntn_to_dcsn (backward)\n",
      "- source: cntn\n",
      "- target: dcsn\n",
      "- model:\n",
      "    parameters:\n",
      "      - beta: float\n",
      "      - r: float\n",
      "      - sigma: float\n",
      "      - gamma: int\n",
      "      - sigma_y: float\n",
      "        ... (1 more non-empty items)\n",
      "    settings:\n",
      "      - tol: float\n",
      "      - max_iter: int\n",
      "      - N_shock: int\n",
      "      - n_grid_points: int\n",
      "      - a_min: str\n",
      "        ... (11 more non-empty items)\n",
      "    math:\n",
      "      - functions: dict\n",
      "      - constraints: dict\n",
      "      - state: dict\n",
      "\n"
     ]
    },
    {
     "data": {
      "text/plain": [
       "'# Stage Summary: ConsumptionSavingsIID\\n\\n## Stage Model\\nparameters:\\n  - beta: float\\n  - r: float\\n  - sigma: float\\n  - gamma: int\\n  - sigma_y: float\\n    ... (1 more non-empty items)\\nsettings:\\n  - tol: float\\n  - max_iter: int\\n  - N_shock: int\\n  - n_grid_points: int\\n  - a_min: str\\n    ... (11 more non-empty items)\\nmath:\\n  - functions: dict\\n  - constraints: dict\\n  - shocks: dict\\n  - state: dict\\n\\n## Perches\\n### Perch: arvl\\n- sol: NoneType\\n- dist: NoneType\\n- model:\\n    parameters:\\n      - beta: float\\n      - r: float\\n      - sigma: float\\n      - gamma: int\\n      - sigma_y: float\\n        ... (1 more non-empty items)\\n    settings:\\n      - tol: float\\n      - max_iter: int\\n      - N_shock: int\\n      - n_grid_points: int\\n      - a_min: str\\n        ... (11 more non-empty items)\\n    math:\\n      - state: dict\\n\\n### Perch: dcsn\\n- sol: NoneType\\n- dist: NoneType\\n- model:\\n    parameters:\\n      - beta: float\\n      - r: float\\n      - sigma: float\\n      - gamma: int\\n      - sigma_y: float\\n        ... (1 more non-empty items)\\n    settings:\\n      - tol: float\\n      - max_iter: int\\n      - N_shock: int\\n      - n_grid_points: int\\n      - a_min: str\\n        ... (11 more non-empty items)\\n    math:\\n      - state: dict\\n\\n### Perch: cntn\\n- sol: dict\\n- dist: NoneType\\n- model:\\n    parameters:\\n      - beta: float\\n      - r: float\\n      - sigma: float\\n      - gamma: int\\n      - sigma_y: float\\n        ... (1 more non-empty items)\\n    settings:\\n      - tol: float\\n      - max_iter: int\\n      - N_shock: int\\n      - n_grid_points: int\\n      - a_min: str\\n        ... (11 more non-empty items)\\n    math:\\n      - state: dict\\n\\n## Movers\\n### Mover: arvl_to_dcsn (forward)\\n- source: arvl\\n- target: dcsn\\n- model:\\n    parameters:\\n      - beta: float\\n      - r: float\\n      - sigma: float\\n      - gamma: int\\n      - sigma_y: float\\n        ... (1 more non-empty items)\\n    settings:\\n      - tol: float\\n      - max_iter: int\\n      - N_shock: int\\n      - n_grid_points: int\\n      - a_min: str\\n        ... (11 more non-empty items)\\n    math:\\n      - functions: dict\\n      - constraints: dict\\n      - shocks: dict\\n      - state: dict\\n\\n### Mover: dcsn_to_cntn (forward)\\n- source: dcsn\\n- target: cntn\\n- model:\\n    parameters:\\n      - beta: float\\n      - r: float\\n      - sigma: float\\n      - gamma: int\\n      - sigma_y: float\\n        ... (1 more non-empty items)\\n    settings:\\n      - tol: float\\n      - max_iter: int\\n      - N_shock: int\\n      - n_grid_points: int\\n      - a_min: str\\n        ... (11 more non-empty items)\\n    math:\\n      - functions: dict\\n      - constraints: dict\\n      - state: dict\\n\\n### Mover: cntn_to_arvl (forward)\\n- source: cntn\\n- target: arvl\\n- model: None\\n\\n### Mover: dcsn_to_arvl (backward)\\n- source: dcsn\\n- target: arvl\\n- model:\\n    parameters:\\n      - beta: float\\n      - r: float\\n      - sigma: float\\n      - gamma: int\\n      - sigma_y: float\\n        ... (1 more non-empty items)\\n    settings:\\n      - tol: float\\n      - max_iter: int\\n      - N_shock: int\\n      - n_grid_points: int\\n      - a_min: str\\n        ... (11 more non-empty items)\\n    math:\\n      - functions: dict\\n      - constraints: dict\\n      - shocks: dict\\n      - state: dict\\n\\n### Mover: cntn_to_dcsn (backward)\\n- source: cntn\\n- target: dcsn\\n- model:\\n    parameters:\\n      - beta: float\\n      - r: float\\n      - sigma: float\\n      - gamma: int\\n      - sigma_y: float\\n        ... (1 more non-empty items)\\n    settings:\\n      - tol: float\\n      - max_iter: int\\n      - N_shock: int\\n      - n_grid_points: int\\n      - a_min: str\\n        ... (11 more non-empty items)\\n    math:\\n      - functions: dict\\n      - constraints: dict\\n      - state: dict\\n'"
      ]
     },
     "execution_count": 10,
     "metadata": {},
     "output_type": "execute_result"
    }
   ],
   "source": [
    "# Use the built-in method to see the full model structure\n",
    "stage.print_model_structure()"
   ]
  },
  {
   "cell_type": "markdown",
   "metadata": {},
   "source": [
    "### Analysis of the Model Structure\n",
    "\n",
    "The model structure above shows the hierarchical organization of the ModCraft Stage:\n",
    "\n",
    "- The Stage contains a main model with global parameters and settings\n",
    "- Each Perch has its own model defining its state space and associated functions\n",
    "- Movers connect perches through well-defined transformations\n",
    "\n",
    "This modular design allows for clear separation of concerns, making it easier to understand, maintain, and extend complex economic models."
   ]
  },
  {
   "cell_type": "markdown",
   "metadata": {},
   "source": [
    "## 3. Individual Model Summaries (Initial)\n",
    "\n",
    "Let's look at each model component in more detail:"
   ]
  },
  {
   "cell_type": "code",
   "execution_count": 11,
   "metadata": {},
   "outputs": [
    {
     "data": {
      "text/markdown": [
       "### Stage Model Summary\n",
       "**Parameters**: 6 items\n",
       "**Settings**: 16 items\n",
       "**Methods**: 10 items\n",
       "\n",
       "**Mathematical Components:**"
      ],
      "text/plain": [
       "<IPython.core.display.Markdown object>"
      ]
     },
     "metadata": {},
     "output_type": "display_data"
    },
    {
     "name": "stdout",
     "output_type": "stream",
     "text": [
      "    Math Dict:\n",
      "    functions: (dict with 14 items)\n",
      "    constraints: (dict with 2 items)\n",
      "    shocks: (dict with 1 items)\n",
      "    state: (dict with 3 items)\n"
     ]
    },
    {
     "data": {
      "text/markdown": [
       "### Arvl Perch Model Summary\n",
       "**Parameters**: 6 items\n",
       "**Settings**: 16 items\n",
       "**Methods**: 0 items\n",
       "\n",
       "**Mathematical Components:**"
      ],
      "text/plain": [
       "<IPython.core.display.Markdown object>"
      ]
     },
     "metadata": {},
     "output_type": "display_data"
    },
    {
     "name": "stdout",
     "output_type": "stream",
     "text": [
      "    Math Dict:\n",
      "    state: (dict with 1 items)\n"
     ]
    },
    {
     "data": {
      "text/markdown": [
       "### Dcsn Perch Model Summary\n",
       "**Parameters**: 6 items\n",
       "**Settings**: 16 items\n",
       "**Methods**: 0 items\n",
       "\n",
       "**Mathematical Components:**"
      ],
      "text/plain": [
       "<IPython.core.display.Markdown object>"
      ]
     },
     "metadata": {},
     "output_type": "display_data"
    },
    {
     "name": "stdout",
     "output_type": "stream",
     "text": [
      "    Math Dict:\n",
      "    state: (dict with 1 items)\n"
     ]
    },
    {
     "data": {
      "text/markdown": [
       "### Cntn Perch Model Summary\n",
       "**Parameters**: 6 items\n",
       "**Settings**: 16 items\n",
       "**Methods**: 0 items\n",
       "\n",
       "**Mathematical Components:**"
      ],
      "text/plain": [
       "<IPython.core.display.Markdown object>"
      ]
     },
     "metadata": {},
     "output_type": "display_data"
    },
    {
     "name": "stdout",
     "output_type": "stream",
     "text": [
      "    Math Dict:\n",
      "    state: (dict with 1 items)\n"
     ]
    },
    {
     "data": {
      "text/markdown": [
       "### arvl_to_dcsn Mover Model Summary\n",
       "**Parameters**: 6 items\n",
       "**Settings**: 16 items\n",
       "**Methods**: 10 items\n",
       "\n",
       "**Mathematical Components:**"
      ],
      "text/plain": [
       "<IPython.core.display.Markdown object>"
      ]
     },
     "metadata": {},
     "output_type": "display_data"
    },
    {
     "name": "stdout",
     "output_type": "stream",
     "text": [
      "    Math Dict:\n",
      "    functions: (dict with 1 items)\n",
      "    constraints: (dict with 2 items)\n",
      "    shocks: (dict with 1 items)\n",
      "    state: (dict with 2 items)\n"
     ]
    },
    {
     "data": {
      "text/markdown": [
       "\n",
       "**Operator:**"
      ],
      "text/plain": [
       "<IPython.core.display.Markdown object>"
      ]
     },
     "metadata": {},
     "output_type": "display_data"
    },
    {
     "name": "stdout",
     "output_type": "stream",
     "text": [
      "    Details:\n",
      "    method: str\n"
     ]
    },
    {
     "data": {
      "text/markdown": [
       "\n",
       "**Operator:**"
      ],
      "text/plain": [
       "<IPython.core.display.Markdown object>"
      ]
     },
     "metadata": {},
     "output_type": "display_data"
    },
    {
     "data": {
      "text/markdown": [
       "### dcsn_to_cntn Mover Model Summary\n",
       "**Parameters**: 6 items\n",
       "**Settings**: 16 items\n",
       "**Methods**: 10 items\n",
       "\n",
       "**Mathematical Components:**"
      ],
      "text/plain": [
       "<IPython.core.display.Markdown object>"
      ]
     },
     "metadata": {},
     "output_type": "display_data"
    },
    {
     "name": "stdout",
     "output_type": "stream",
     "text": [
      "    Math Dict:\n",
      "    functions: (dict with 1 items)\n",
      "    constraints: (dict with 2 items)\n",
      "    state: (dict with 2 items)\n"
     ]
    },
    {
     "data": {
      "text/markdown": [
       "\n",
       "**Operator:**"
      ],
      "text/plain": [
       "<IPython.core.display.Markdown object>"
      ]
     },
     "metadata": {},
     "output_type": "display_data"
    },
    {
     "name": "stdout",
     "output_type": "stream",
     "text": [
      "    Details:\n",
      "    method: str\n",
      "    objective: str\n"
     ]
    },
    {
     "data": {
      "text/markdown": [
       "\n",
       "**Operator:**"
      ],
      "text/plain": [
       "<IPython.core.display.Markdown object>"
      ]
     },
     "metadata": {},
     "output_type": "display_data"
    },
    {
     "data": {
      "text/markdown": [
       "### cntn_to_arvl Mover Model Summary\n",
       "**Parameters**: 0 items\n",
       "**Settings**: 0 items\n",
       "**Methods**: 0 items"
      ],
      "text/plain": [
       "<IPython.core.display.Markdown object>"
      ]
     },
     "metadata": {},
     "output_type": "display_data"
    },
    {
     "data": {
      "text/markdown": [
       "### dcsn_to_arvl Mover Model Summary\n",
       "**Parameters**: 6 items\n",
       "**Settings**: 16 items\n",
       "**Methods**: 10 items\n",
       "\n",
       "**Mathematical Components:**"
      ],
      "text/plain": [
       "<IPython.core.display.Markdown object>"
      ]
     },
     "metadata": {},
     "output_type": "display_data"
    },
    {
     "name": "stdout",
     "output_type": "stream",
     "text": [
      "    Math Dict:\n",
      "    functions: (dict with 1 items)\n",
      "    constraints: (dict with 2 items)\n",
      "    shocks: (dict with 1 items)\n",
      "    state: (dict with 2 items)\n"
     ]
    },
    {
     "data": {
      "text/markdown": [
       "\n",
       "**Operator:**"
      ],
      "text/plain": [
       "<IPython.core.display.Markdown object>"
      ]
     },
     "metadata": {},
     "output_type": "display_data"
    },
    {
     "name": "stdout",
     "output_type": "stream",
     "text": [
      "    Details:\n",
      "    method: str\n"
     ]
    },
    {
     "data": {
      "text/markdown": [
       "\n",
       "**Operator:**"
      ],
      "text/plain": [
       "<IPython.core.display.Markdown object>"
      ]
     },
     "metadata": {},
     "output_type": "display_data"
    },
    {
     "data": {
      "text/markdown": [
       "### cntn_to_dcsn Mover Model Summary\n",
       "**Parameters**: 6 items\n",
       "**Settings**: 16 items\n",
       "**Methods**: 10 items\n",
       "\n",
       "**Mathematical Components:**"
      ],
      "text/plain": [
       "<IPython.core.display.Markdown object>"
      ]
     },
     "metadata": {},
     "output_type": "display_data"
    },
    {
     "name": "stdout",
     "output_type": "stream",
     "text": [
      "    Math Dict:\n",
      "    functions: (dict with 11 items)\n",
      "    constraints: (dict with 2 items)\n",
      "    state: (dict with 2 items)\n"
     ]
    },
    {
     "data": {
      "text/markdown": [
       "\n",
       "**Operator:**"
      ],
      "text/plain": [
       "<IPython.core.display.Markdown object>"
      ]
     },
     "metadata": {},
     "output_type": "display_data"
    },
    {
     "name": "stdout",
     "output_type": "stream",
     "text": [
      "    Details:\n",
      "    method: str\n"
     ]
    },
    {
     "data": {
      "text/markdown": [
       "\n",
       "**Operator:**"
      ],
      "text/plain": [
       "<IPython.core.display.Markdown object>"
      ]
     },
     "metadata": {},
     "output_type": "display_data"
    }
   ],
   "source": [
    "# First, examine the Stage model\n",
    "print_model_summary(stage.model, \"Stage Model\")\n",
    "\n",
    "# Then examine each perch model\n",
    "for perch_name in [\"arvl\", \"dcsn\", \"cntn\"]:\n",
    "    perch = getattr(stage, perch_name)\n",
    "    if perch: print_model_summary(perch.model, f\"{perch_name.capitalize()} Perch Model\")\n",
    "\n",
    "# Finally, examine each mover model\n",
    "movers_to_check = {\"arvl_to_dcsn\": stage.arvl_to_dcsn, \n",
    "                   \"dcsn_to_cntn\": stage.dcsn_to_cntn,\n",
    "                   \"cntn_to_arvl\": stage.cntn_to_arvl, \n",
    "                   \"dcsn_to_arvl\": stage.dcsn_to_arvl, \n",
    "                   \"cntn_to_dcsn\": stage.cntn_to_dcsn}\n",
    "                   \n",
    "for mover_name, mover in movers_to_check.items():\n",
    "    if mover: print_model_summary(mover.model, f\"{mover_name} Mover Model\")"
   ]
  },
  {
   "cell_type": "markdown",
   "metadata": {},
   "source": [
    "### Key Observations on Model Components\n",
    "\n",
    "From these model summaries, we can observe several important aspects of ModCraft's approach:\n",
    "\n",
    "1. **Mathematical Representation**: Each model has a `math` dictionary containing symbolic representations of:\n",
    "   - Functions (utility, production, etc.)\n",
    "   - Constraints (budget constraints, resource limits, etc.)\n",
    "   - Domains (state spaces, action spaces, etc.)\n",
    "\n",
    "2. **Parameters and Settings**: Global model parameters are centralized in the Stage model, while component-specific settings are localized in the relevant submodels.\n",
    "\n",
    "3. **Forward vs. Backward Movers**: \n",
    "   - Forward movers (`arvl_to_dcsn`, `dcsn_to_cntn`) implement the model mechanics\n",
    "   - Backward movers (`cntn_to_dcsn`, `dcsn_to_arvl`) implement the solution algorithm\n",
    "\n",
    "This separation allows economists to focus on model specification while solution algorithms can be swapped out or customized independently."
   ]
  },
  {
   "cell_type": "markdown",
   "metadata": {},
   "source": [
    "## 4. Numerical Compilation\n",
    "\n",
    "Next, we'll compile the symbolic models into numerical representations that can be used for computation:"
   ]
  },
  {
   "cell_type": "code",
   "execution_count": 12,
   "metadata": {},
   "outputs": [
    {
     "name": "stdout",
     "output_type": "stream",
     "text": [
      "Compilation successful: True\n",
      "\n",
      "Status flags after compilation:\n",
      "{'all_movers_compiled': True,\n",
      " 'all_movers_initialized': True,\n",
      " 'all_perches_compiled': True,\n",
      " 'all_perches_initialized': True,\n",
      " 'compiled': True,\n",
      " 'initialized': True,\n",
      " 'portable': False,\n",
      " 'simulated': False,\n",
      " 'solvable': False,\n",
      " 'solved': False}\n"
     ]
    }
   ],
   "source": [
    "# Build the computational model using num_rep provided at init\n",
    "success = stage.build_computational_model()\n",
    "print(f\"Compilation successful: {success}\")\n",
    "print(\"\\nStatus flags after compilation:\")\n",
    "pprint.pprint(stage.status_flags)"
   ]
  },
  {
   "cell_type": "markdown",
   "metadata": {},
   "source": [
    "### What Happens During Compilation?\n",
    "\n",
    "The numerical compilation step is a crucial transformation in ModCraft. During this process:\n",
    "\n",
    "1. Symbolic mathematical expressions are converted to computational functions\n",
    "2. State spaces are discretized into grids\n",
    "3. Continuous functions are approximated for numerical computation\n",
    "4. Memory is allocated for solution arrays\n",
    "\n",
    "This step bridges the gap between the mathematical specification and the computational implementation, making the model ready for solving."
   ]
  },
  {
   "cell_type": "markdown",
   "metadata": {},
   "source": [
    "## 5. Compiled Model Structure\n",
    "\n",
    "Let's examine the models after compilation to see what has changed:"
   ]
  },
  {
   "cell_type": "code",
   "execution_count": 13,
   "metadata": {},
   "outputs": [
    {
     "name": "stdout",
     "output_type": "stream",
     "text": [
      "Model structure saved to: stage_summary_ConsumptionSavingsIID.md\n",
      "# Stage Summary: ConsumptionSavingsIID\n",
      "\n",
      "## Stage Model\n",
      "parameters:\n",
      "  - beta: float\n",
      "  - r: float\n",
      "  - sigma: float\n",
      "  - gamma: int\n",
      "  - sigma_y: float\n",
      "    ... (1 more non-empty items)\n",
      "settings:\n",
      "  - tol: float\n",
      "  - max_iter: int\n",
      "  - N_shock: int\n",
      "  - n_grid_points: int\n",
      "  - a_min: str\n",
      "    ... (11 more non-empty items)\n",
      "math:\n",
      "  - functions: dict\n",
      "  - constraints: dict\n",
      "  - shocks: dict\n",
      "  - state: dict\n",
      "num:\n",
      "  - functions: dict\n",
      "  - constraints: dict\n",
      "  - state_space: dict\n",
      "  - shocks: dict\n",
      "  - arvl: dict\n",
      "    ... (2 more non-empty items)\n",
      "\n",
      "## Perches\n",
      "### Perch: arvl\n",
      "- sol: NoneType\n",
      "- dist: NoneType\n",
      "- model:\n",
      "    parameters:\n",
      "      - beta: float\n",
      "      - r: float\n",
      "      - sigma: float\n",
      "      - gamma: int\n",
      "      - sigma_y: float\n",
      "        ... (1 more non-empty items)\n",
      "    settings:\n",
      "      - tol: float\n",
      "      - max_iter: int\n",
      "      - N_shock: int\n",
      "      - n_grid_points: int\n",
      "      - a_min: str\n",
      "        ... (11 more non-empty items)\n",
      "    math:\n",
      "      - state: dict\n",
      "    num:\n",
      "      - state_space: dict\n",
      "      - arvl: dict\n",
      "\n",
      "### Perch: dcsn\n",
      "- sol: NoneType\n",
      "- dist: NoneType\n",
      "- model:\n",
      "    parameters:\n",
      "      - beta: float\n",
      "      - r: float\n",
      "      - sigma: float\n",
      "      - gamma: int\n",
      "      - sigma_y: float\n",
      "        ... (1 more non-empty items)\n",
      "    settings:\n",
      "      - tol: float\n",
      "      - max_iter: int\n",
      "      - N_shock: int\n",
      "      - n_grid_points: int\n",
      "      - a_min: str\n",
      "        ... (11 more non-empty items)\n",
      "    math:\n",
      "      - state: dict\n",
      "    num:\n",
      "      - state_space: dict\n",
      "      - dcsn: dict\n",
      "\n",
      "### Perch: cntn\n",
      "- sol: dict\n",
      "- dist: NoneType\n",
      "- model:\n",
      "    parameters:\n",
      "      - beta: float\n",
      "      - r: float\n",
      "      - sigma: float\n",
      "      - gamma: int\n",
      "      - sigma_y: float\n",
      "        ... (1 more non-empty items)\n",
      "    settings:\n",
      "      - tol: float\n",
      "      - max_iter: int\n",
      "      - N_shock: int\n",
      "      - n_grid_points: int\n",
      "      - a_min: str\n",
      "        ... (11 more non-empty items)\n",
      "    math:\n",
      "      - state: dict\n",
      "    num:\n",
      "      - state_space: dict\n",
      "      - cntn: dict\n",
      "\n",
      "## Movers\n",
      "### Mover: arvl_to_dcsn (forward)\n",
      "- source: arvl\n",
      "- target: dcsn\n",
      "- model:\n",
      "    parameters:\n",
      "      - beta: float\n",
      "      - r: float\n",
      "      - sigma: float\n",
      "      - gamma: int\n",
      "      - sigma_y: float\n",
      "        ... (1 more non-empty items)\n",
      "    settings:\n",
      "      - tol: float\n",
      "      - max_iter: int\n",
      "      - N_shock: int\n",
      "      - n_grid_points: int\n",
      "      - a_min: str\n",
      "        ... (11 more non-empty items)\n",
      "    math:\n",
      "      - functions: dict\n",
      "      - constraints: dict\n",
      "      - shocks: dict\n",
      "      - state: dict\n",
      "    num:\n",
      "      - functions: dict\n",
      "      - constraints: dict\n",
      "      - state_space: dict\n",
      "      - shocks: dict\n",
      "      - arvl: dict\n",
      "        ... (1 more non-empty items)\n",
      "\n",
      "### Mover: dcsn_to_cntn (forward)\n",
      "- source: dcsn\n",
      "- target: cntn\n",
      "- model:\n",
      "    parameters:\n",
      "      - beta: float\n",
      "      - r: float\n",
      "      - sigma: float\n",
      "      - gamma: int\n",
      "      - sigma_y: float\n",
      "        ... (1 more non-empty items)\n",
      "    settings:\n",
      "      - tol: float\n",
      "      - max_iter: int\n",
      "      - N_shock: int\n",
      "      - n_grid_points: int\n",
      "      - a_min: str\n",
      "        ... (11 more non-empty items)\n",
      "    math:\n",
      "      - functions: dict\n",
      "      - constraints: dict\n",
      "      - state: dict\n",
      "    num:\n",
      "      - functions: dict\n",
      "      - constraints: dict\n",
      "      - state_space: dict\n",
      "      - dcsn: dict\n",
      "      - cntn: dict\n",
      "\n",
      "### Mover: cntn_to_arvl (forward)\n",
      "- source: cntn\n",
      "- target: arvl\n",
      "- model: None\n",
      "\n",
      "### Mover: dcsn_to_arvl (backward)\n",
      "- source: dcsn\n",
      "- target: arvl\n",
      "- model:\n",
      "    parameters:\n",
      "      - beta: float\n",
      "      - r: float\n",
      "      - sigma: float\n",
      "      - gamma: int\n",
      "      - sigma_y: float\n",
      "        ... (1 more non-empty items)\n",
      "    settings:\n",
      "      - tol: float\n",
      "      - max_iter: int\n",
      "      - N_shock: int\n",
      "      - n_grid_points: int\n",
      "      - a_min: str\n",
      "        ... (11 more non-empty items)\n",
      "    math:\n",
      "      - functions: dict\n",
      "      - constraints: dict\n",
      "      - shocks: dict\n",
      "      - state: dict\n",
      "    num:\n",
      "      - functions: dict\n",
      "      - constraints: dict\n",
      "      - state_space: dict\n",
      "      - shocks: dict\n",
      "      - dcsn: dict\n",
      "        ... (1 more non-empty items)\n",
      "\n",
      "### Mover: cntn_to_dcsn (backward)\n",
      "- source: cntn\n",
      "- target: dcsn\n",
      "- model:\n",
      "    parameters:\n",
      "      - beta: float\n",
      "      - r: float\n",
      "      - sigma: float\n",
      "      - gamma: int\n",
      "      - sigma_y: float\n",
      "        ... (1 more non-empty items)\n",
      "    settings:\n",
      "      - tol: float\n",
      "      - max_iter: int\n",
      "      - N_shock: int\n",
      "      - n_grid_points: int\n",
      "      - a_min: str\n",
      "        ... (11 more non-empty items)\n",
      "    math:\n",
      "      - functions: dict\n",
      "      - constraints: dict\n",
      "      - state: dict\n",
      "    num:\n",
      "      - functions: dict\n",
      "      - constraints: dict\n",
      "      - state_space: dict\n",
      "      - cntn: dict\n",
      "      - dcsn: dict\n",
      "\n"
     ]
    },
    {
     "data": {
      "text/plain": [
       "'# Stage Summary: ConsumptionSavingsIID\\n\\n## Stage Model\\nparameters:\\n  - beta: float\\n  - r: float\\n  - sigma: float\\n  - gamma: int\\n  - sigma_y: float\\n    ... (1 more non-empty items)\\nsettings:\\n  - tol: float\\n  - max_iter: int\\n  - N_shock: int\\n  - n_grid_points: int\\n  - a_min: str\\n    ... (11 more non-empty items)\\nmath:\\n  - functions: dict\\n  - constraints: dict\\n  - shocks: dict\\n  - state: dict\\nnum:\\n  - functions: dict\\n  - constraints: dict\\n  - state_space: dict\\n  - shocks: dict\\n  - arvl: dict\\n    ... (2 more non-empty items)\\n\\n## Perches\\n### Perch: arvl\\n- sol: NoneType\\n- dist: NoneType\\n- model:\\n    parameters:\\n      - beta: float\\n      - r: float\\n      - sigma: float\\n      - gamma: int\\n      - sigma_y: float\\n        ... (1 more non-empty items)\\n    settings:\\n      - tol: float\\n      - max_iter: int\\n      - N_shock: int\\n      - n_grid_points: int\\n      - a_min: str\\n        ... (11 more non-empty items)\\n    math:\\n      - state: dict\\n    num:\\n      - state_space: dict\\n      - arvl: dict\\n\\n### Perch: dcsn\\n- sol: NoneType\\n- dist: NoneType\\n- model:\\n    parameters:\\n      - beta: float\\n      - r: float\\n      - sigma: float\\n      - gamma: int\\n      - sigma_y: float\\n        ... (1 more non-empty items)\\n    settings:\\n      - tol: float\\n      - max_iter: int\\n      - N_shock: int\\n      - n_grid_points: int\\n      - a_min: str\\n        ... (11 more non-empty items)\\n    math:\\n      - state: dict\\n    num:\\n      - state_space: dict\\n      - dcsn: dict\\n\\n### Perch: cntn\\n- sol: dict\\n- dist: NoneType\\n- model:\\n    parameters:\\n      - beta: float\\n      - r: float\\n      - sigma: float\\n      - gamma: int\\n      - sigma_y: float\\n        ... (1 more non-empty items)\\n    settings:\\n      - tol: float\\n      - max_iter: int\\n      - N_shock: int\\n      - n_grid_points: int\\n      - a_min: str\\n        ... (11 more non-empty items)\\n    math:\\n      - state: dict\\n    num:\\n      - state_space: dict\\n      - cntn: dict\\n\\n## Movers\\n### Mover: arvl_to_dcsn (forward)\\n- source: arvl\\n- target: dcsn\\n- model:\\n    parameters:\\n      - beta: float\\n      - r: float\\n      - sigma: float\\n      - gamma: int\\n      - sigma_y: float\\n        ... (1 more non-empty items)\\n    settings:\\n      - tol: float\\n      - max_iter: int\\n      - N_shock: int\\n      - n_grid_points: int\\n      - a_min: str\\n        ... (11 more non-empty items)\\n    math:\\n      - functions: dict\\n      - constraints: dict\\n      - shocks: dict\\n      - state: dict\\n    num:\\n      - functions: dict\\n      - constraints: dict\\n      - state_space: dict\\n      - shocks: dict\\n      - arvl: dict\\n        ... (1 more non-empty items)\\n\\n### Mover: dcsn_to_cntn (forward)\\n- source: dcsn\\n- target: cntn\\n- model:\\n    parameters:\\n      - beta: float\\n      - r: float\\n      - sigma: float\\n      - gamma: int\\n      - sigma_y: float\\n        ... (1 more non-empty items)\\n    settings:\\n      - tol: float\\n      - max_iter: int\\n      - N_shock: int\\n      - n_grid_points: int\\n      - a_min: str\\n        ... (11 more non-empty items)\\n    math:\\n      - functions: dict\\n      - constraints: dict\\n      - state: dict\\n    num:\\n      - functions: dict\\n      - constraints: dict\\n      - state_space: dict\\n      - dcsn: dict\\n      - cntn: dict\\n\\n### Mover: cntn_to_arvl (forward)\\n- source: cntn\\n- target: arvl\\n- model: None\\n\\n### Mover: dcsn_to_arvl (backward)\\n- source: dcsn\\n- target: arvl\\n- model:\\n    parameters:\\n      - beta: float\\n      - r: float\\n      - sigma: float\\n      - gamma: int\\n      - sigma_y: float\\n        ... (1 more non-empty items)\\n    settings:\\n      - tol: float\\n      - max_iter: int\\n      - N_shock: int\\n      - n_grid_points: int\\n      - a_min: str\\n        ... (11 more non-empty items)\\n    math:\\n      - functions: dict\\n      - constraints: dict\\n      - shocks: dict\\n      - state: dict\\n    num:\\n      - functions: dict\\n      - constraints: dict\\n      - state_space: dict\\n      - shocks: dict\\n      - dcsn: dict\\n        ... (1 more non-empty items)\\n\\n### Mover: cntn_to_dcsn (backward)\\n- source: cntn\\n- target: dcsn\\n- model:\\n    parameters:\\n      - beta: float\\n      - r: float\\n      - sigma: float\\n      - gamma: int\\n      - sigma_y: float\\n        ... (1 more non-empty items)\\n    settings:\\n      - tol: float\\n      - max_iter: int\\n      - N_shock: int\\n      - n_grid_points: int\\n      - a_min: str\\n        ... (11 more non-empty items)\\n    math:\\n      - functions: dict\\n      - constraints: dict\\n      - state: dict\\n    num:\\n      - functions: dict\\n      - constraints: dict\\n      - state_space: dict\\n      - cntn: dict\\n      - dcsn: dict\\n'"
      ]
     },
     "execution_count": 13,
     "metadata": {},
     "output_type": "execute_result"
    }
   ],
   "source": [
    "# First, get an overview of the compiled stage structure\n",
    "stage.print_model_structure()"
   ]
  },
  {
   "cell_type": "code",
   "execution_count": 14,
   "metadata": {},
   "outputs": [
    {
     "data": {
      "text/markdown": [
       "### Compiled Stage Model Summary\n",
       "**Parameters**: 6 items\n",
       "**Settings**: 16 items\n",
       "**Methods**: 10 items\n",
       "\n",
       "**Mathematical Components:**"
      ],
      "text/plain": [
       "<IPython.core.display.Markdown object>"
      ]
     },
     "metadata": {},
     "output_type": "display_data"
    },
    {
     "name": "stdout",
     "output_type": "stream",
     "text": [
      "    Math Dict:\n",
      "    functions: (dict with 14 items)\n",
      "    constraints: (dict with 2 items)\n",
      "    shocks: (dict with 1 items)\n",
      "    state: (dict with 3 items)\n"
     ]
    },
    {
     "data": {
      "text/markdown": [
       "\n",
       "**Numerical Components:**"
      ],
      "text/plain": [
       "<IPython.core.display.Markdown object>"
      ]
     },
     "metadata": {},
     "output_type": "display_data"
    },
    {
     "name": "stdout",
     "output_type": "stream",
     "text": [
      "    Num Dict:\n",
      "    functions: (dict with 14 items)\n",
      "    constraints: (dict with 2 items)\n",
      "    state_space: (dict with 3 items)\n",
      "    shocks: (dict with 1 items)\n",
      "    arvl: (dict with 1 items)\n",
      "    ... (2 more non-empty items)\n",
      "    Example Grid Info:\n",
      "      - arvl.a: 4000 points [0.01 to 10.00]\n",
      "      - dcsn.m: 4000 points [0.00 to 5.00]\n",
      "      - cntn.a_nxt: 4000 points [0.01 to 10.00]\n"
     ]
    },
    {
     "data": {
      "text/markdown": [
       "### Compiled Arvl Perch Model Summary\n",
       "**Parameters**: 6 items\n",
       "**Settings**: 16 items\n",
       "**Methods**: 0 items\n",
       "\n",
       "**Mathematical Components:**"
      ],
      "text/plain": [
       "<IPython.core.display.Markdown object>"
      ]
     },
     "metadata": {},
     "output_type": "display_data"
    },
    {
     "name": "stdout",
     "output_type": "stream",
     "text": [
      "    Math Dict:\n",
      "    state: (dict with 1 items)\n"
     ]
    },
    {
     "data": {
      "text/markdown": [
       "\n",
       "**Numerical Components:**"
      ],
      "text/plain": [
       "<IPython.core.display.Markdown object>"
      ]
     },
     "metadata": {},
     "output_type": "display_data"
    },
    {
     "name": "stdout",
     "output_type": "stream",
     "text": [
      "    Num Dict:\n",
      "    state_space: (dict with 1 items)\n",
      "    arvl: (dict with 1 items)\n",
      "    Example Grid Info:\n",
      "      - arvl.a: 4000 points [0.01 to 10.00]\n"
     ]
    },
    {
     "data": {
      "text/markdown": [
       "### Compiled Dcsn Perch Model Summary\n",
       "**Parameters**: 6 items\n",
       "**Settings**: 16 items\n",
       "**Methods**: 0 items\n",
       "\n",
       "**Mathematical Components:**"
      ],
      "text/plain": [
       "<IPython.core.display.Markdown object>"
      ]
     },
     "metadata": {},
     "output_type": "display_data"
    },
    {
     "name": "stdout",
     "output_type": "stream",
     "text": [
      "    Math Dict:\n",
      "    state: (dict with 1 items)\n"
     ]
    },
    {
     "data": {
      "text/markdown": [
       "\n",
       "**Numerical Components:**"
      ],
      "text/plain": [
       "<IPython.core.display.Markdown object>"
      ]
     },
     "metadata": {},
     "output_type": "display_data"
    },
    {
     "name": "stdout",
     "output_type": "stream",
     "text": [
      "    Num Dict:\n",
      "    state_space: (dict with 1 items)\n",
      "    dcsn: (dict with 1 items)\n",
      "    Example Grid Info:\n",
      "      - dcsn.m: 4000 points [0.00 to 5.00]\n"
     ]
    },
    {
     "data": {
      "text/markdown": [
       "### Compiled Cntn Perch Model Summary\n",
       "**Parameters**: 6 items\n",
       "**Settings**: 16 items\n",
       "**Methods**: 0 items\n",
       "\n",
       "**Mathematical Components:**"
      ],
      "text/plain": [
       "<IPython.core.display.Markdown object>"
      ]
     },
     "metadata": {},
     "output_type": "display_data"
    },
    {
     "name": "stdout",
     "output_type": "stream",
     "text": [
      "    Math Dict:\n",
      "    state: (dict with 1 items)\n"
     ]
    },
    {
     "data": {
      "text/markdown": [
       "\n",
       "**Numerical Components:**"
      ],
      "text/plain": [
       "<IPython.core.display.Markdown object>"
      ]
     },
     "metadata": {},
     "output_type": "display_data"
    },
    {
     "name": "stdout",
     "output_type": "stream",
     "text": [
      "    Num Dict:\n",
      "    state_space: (dict with 1 items)\n",
      "    cntn: (dict with 1 items)\n",
      "    Example Grid Info:\n",
      "      - cntn.a_nxt: 4000 points [0.01 to 10.00]\n"
     ]
    },
    {
     "data": {
      "text/markdown": [
       "### Compiled arvl_to_dcsn Mover Model Summary\n",
       "**Parameters**: 6 items\n",
       "**Settings**: 16 items\n",
       "**Methods**: 10 items\n",
       "\n",
       "**Mathematical Components:**"
      ],
      "text/plain": [
       "<IPython.core.display.Markdown object>"
      ]
     },
     "metadata": {},
     "output_type": "display_data"
    },
    {
     "name": "stdout",
     "output_type": "stream",
     "text": [
      "    Math Dict:\n",
      "    functions: (dict with 1 items)\n",
      "    constraints: (dict with 2 items)\n",
      "    shocks: (dict with 1 items)\n",
      "    state: (dict with 2 items)\n"
     ]
    },
    {
     "data": {
      "text/markdown": [
       "\n",
       "**Numerical Components:**"
      ],
      "text/plain": [
       "<IPython.core.display.Markdown object>"
      ]
     },
     "metadata": {},
     "output_type": "display_data"
    },
    {
     "name": "stdout",
     "output_type": "stream",
     "text": [
      "    Num Dict:\n",
      "    functions: (dict with 1 items)\n",
      "    constraints: (dict with 2 items)\n",
      "    state_space: (dict with 2 items)\n",
      "    shocks: (dict with 1 items)\n",
      "    arvl: (dict with 1 items)\n",
      "    ... (1 more non-empty items)\n",
      "    Example Grid Info:\n",
      "      - arvl.a: 4000 points [0.01 to 10.00]\n",
      "      - dcsn.m: 4000 points [0.00 to 5.00]\n"
     ]
    },
    {
     "data": {
      "text/markdown": [
       "\n",
       "**Operator:**"
      ],
      "text/plain": [
       "<IPython.core.display.Markdown object>"
      ]
     },
     "metadata": {},
     "output_type": "display_data"
    },
    {
     "name": "stdout",
     "output_type": "stream",
     "text": [
      "    Details:\n",
      "    method: str\n"
     ]
    },
    {
     "data": {
      "text/markdown": [
       "\n",
       "**Operator:**"
      ],
      "text/plain": [
       "<IPython.core.display.Markdown object>"
      ]
     },
     "metadata": {},
     "output_type": "display_data"
    },
    {
     "data": {
      "text/markdown": [
       "### Compiled dcsn_to_cntn Mover Model Summary\n",
       "**Parameters**: 6 items\n",
       "**Settings**: 16 items\n",
       "**Methods**: 10 items\n",
       "\n",
       "**Mathematical Components:**"
      ],
      "text/plain": [
       "<IPython.core.display.Markdown object>"
      ]
     },
     "metadata": {},
     "output_type": "display_data"
    },
    {
     "name": "stdout",
     "output_type": "stream",
     "text": [
      "    Math Dict:\n",
      "    functions: (dict with 1 items)\n",
      "    constraints: (dict with 2 items)\n",
      "    state: (dict with 2 items)\n"
     ]
    },
    {
     "data": {
      "text/markdown": [
       "\n",
       "**Numerical Components:**"
      ],
      "text/plain": [
       "<IPython.core.display.Markdown object>"
      ]
     },
     "metadata": {},
     "output_type": "display_data"
    },
    {
     "name": "stdout",
     "output_type": "stream",
     "text": [
      "    Num Dict:\n",
      "    functions: (dict with 1 items)\n",
      "    constraints: (dict with 2 items)\n",
      "    state_space: (dict with 2 items)\n",
      "    dcsn: (dict with 1 items)\n",
      "    cntn: (dict with 1 items)\n",
      "    Example Grid Info:\n",
      "      - dcsn.m: 4000 points [0.00 to 5.00]\n",
      "      - cntn.a_nxt: 4000 points [0.01 to 10.00]\n"
     ]
    },
    {
     "data": {
      "text/markdown": [
       "\n",
       "**Operator:**"
      ],
      "text/plain": [
       "<IPython.core.display.Markdown object>"
      ]
     },
     "metadata": {},
     "output_type": "display_data"
    },
    {
     "name": "stdout",
     "output_type": "stream",
     "text": [
      "    Details:\n",
      "    method: str\n",
      "    objective: str\n"
     ]
    },
    {
     "data": {
      "text/markdown": [
       "\n",
       "**Operator:**"
      ],
      "text/plain": [
       "<IPython.core.display.Markdown object>"
      ]
     },
     "metadata": {},
     "output_type": "display_data"
    },
    {
     "data": {
      "text/markdown": [
       "### Compiled cntn_to_arvl Mover Model Summary\n",
       "**Parameters**: 0 items\n",
       "**Settings**: 0 items\n",
       "**Methods**: 0 items"
      ],
      "text/plain": [
       "<IPython.core.display.Markdown object>"
      ]
     },
     "metadata": {},
     "output_type": "display_data"
    },
    {
     "data": {
      "text/markdown": [
       "### Compiled dcsn_to_arvl Mover Model Summary\n",
       "**Parameters**: 6 items\n",
       "**Settings**: 16 items\n",
       "**Methods**: 10 items\n",
       "\n",
       "**Mathematical Components:**"
      ],
      "text/plain": [
       "<IPython.core.display.Markdown object>"
      ]
     },
     "metadata": {},
     "output_type": "display_data"
    },
    {
     "name": "stdout",
     "output_type": "stream",
     "text": [
      "    Math Dict:\n",
      "    functions: (dict with 1 items)\n",
      "    constraints: (dict with 2 items)\n",
      "    shocks: (dict with 1 items)\n",
      "    state: (dict with 2 items)\n"
     ]
    },
    {
     "data": {
      "text/markdown": [
       "\n",
       "**Numerical Components:**"
      ],
      "text/plain": [
       "<IPython.core.display.Markdown object>"
      ]
     },
     "metadata": {},
     "output_type": "display_data"
    },
    {
     "name": "stdout",
     "output_type": "stream",
     "text": [
      "    Num Dict:\n",
      "    functions: (dict with 1 items)\n",
      "    constraints: (dict with 2 items)\n",
      "    state_space: (dict with 2 items)\n",
      "    shocks: (dict with 1 items)\n",
      "    dcsn: (dict with 1 items)\n",
      "    ... (1 more non-empty items)\n",
      "    Example Grid Info:\n",
      "      - dcsn.m: 4000 points [0.00 to 5.00]\n",
      "      - arvl.a: 4000 points [0.01 to 10.00]\n"
     ]
    },
    {
     "data": {
      "text/markdown": [
       "\n",
       "**Operator:**"
      ],
      "text/plain": [
       "<IPython.core.display.Markdown object>"
      ]
     },
     "metadata": {},
     "output_type": "display_data"
    },
    {
     "name": "stdout",
     "output_type": "stream",
     "text": [
      "    Details:\n",
      "    method: str\n"
     ]
    },
    {
     "data": {
      "text/markdown": [
       "\n",
       "**Operator:**"
      ],
      "text/plain": [
       "<IPython.core.display.Markdown object>"
      ]
     },
     "metadata": {},
     "output_type": "display_data"
    },
    {
     "data": {
      "text/markdown": [
       "### Compiled cntn_to_dcsn Mover Model Summary\n",
       "**Parameters**: 6 items\n",
       "**Settings**: 16 items\n",
       "**Methods**: 10 items\n",
       "\n",
       "**Mathematical Components:**"
      ],
      "text/plain": [
       "<IPython.core.display.Markdown object>"
      ]
     },
     "metadata": {},
     "output_type": "display_data"
    },
    {
     "name": "stdout",
     "output_type": "stream",
     "text": [
      "    Math Dict:\n",
      "    functions: (dict with 11 items)\n",
      "    constraints: (dict with 2 items)\n",
      "    state: (dict with 2 items)\n"
     ]
    },
    {
     "data": {
      "text/markdown": [
       "\n",
       "**Numerical Components:**"
      ],
      "text/plain": [
       "<IPython.core.display.Markdown object>"
      ]
     },
     "metadata": {},
     "output_type": "display_data"
    },
    {
     "name": "stdout",
     "output_type": "stream",
     "text": [
      "    Num Dict:\n",
      "    functions: (dict with 11 items)\n",
      "    constraints: (dict with 2 items)\n",
      "    state_space: (dict with 2 items)\n",
      "    cntn: (dict with 1 items)\n",
      "    dcsn: (dict with 1 items)\n",
      "    Example Grid Info:\n",
      "      - cntn.a_nxt: 4000 points [0.01 to 10.00]\n",
      "      - dcsn.m: 4000 points [0.00 to 5.00]\n"
     ]
    },
    {
     "data": {
      "text/markdown": [
       "\n",
       "**Operator:**"
      ],
      "text/plain": [
       "<IPython.core.display.Markdown object>"
      ]
     },
     "metadata": {},
     "output_type": "display_data"
    },
    {
     "name": "stdout",
     "output_type": "stream",
     "text": [
      "    Details:\n",
      "    method: str\n"
     ]
    },
    {
     "data": {
      "text/markdown": [
       "\n",
       "**Operator:**"
      ],
      "text/plain": [
       "<IPython.core.display.Markdown object>"
      ]
     },
     "metadata": {},
     "output_type": "display_data"
    }
   ],
   "source": [
    "# Then examine each compiled model in detail\n",
    "print_model_summary(stage.model, \"Compiled Stage Model\")\n",
    "\n",
    "for perch_name in [\"arvl\", \"dcsn\", \"cntn\"]:\n",
    "    perch = getattr(stage, perch_name)\n",
    "    if perch: print_model_summary(perch.model, f\"Compiled {perch_name.capitalize()} Perch Model\")\n",
    "        \n",
    "for mover_name, mover in movers_to_check.items():\n",
    "     if mover: print_model_summary(mover.model, f\"Compiled {mover_name} Mover Model\")"
   ]
  },
  {
   "cell_type": "markdown",
   "metadata": {},
   "source": [
    "### Key Differences After Compilation\n",
    "\n",
    "Notice the important additions after compilation:\n",
    "\n",
    "1. **Numerical Components**: Each model now has a `num` dictionary containing:\n",
    "   - Discretized state grids\n",
    "   - Computational functions\n",
    "   - Interpolation objects\n",
    "   - Optimization routines\n",
    "\n",
    "2. **Status Flag Changes**: The `compiled` flag is now True\n",
    "\n",
    "3. **Grid Information**: State spaces are now represented as numerical arrays with defined bounds and resolution\n",
    "\n",
    "These numerical representations maintain the same structure as the mathematical models, but are now ready for computation."
   ]
  },
  {
   "cell_type": "markdown",
   "metadata": {},
   "source": [
    "## 6. Access Examples\n",
    "\n",
    "Let's explore how to access different parts of the compiled model:"
   ]
  },
  {
   "cell_type": "code",
   "execution_count": 15,
   "metadata": {},
   "outputs": [
    {
     "name": "stdout",
     "output_type": "stream",
     "text": [
      "Stage parameters access:\n",
      "  beta = 0.9\n",
      "  gamma = 2\n",
      "  r = 1.04\n"
     ]
    }
   ],
   "source": [
    "# Example 1: Access stage parameters\n",
    "print(\"Stage parameters access:\")\n",
    "if hasattr(stage.model, 'parameters') and stage.model.parameters:\n",
    "    for param_name in [\"beta\", \"gamma\", \"r\"]:\n",
    "        if param_name in stage.model.parameters:\n",
    "            print(f\"  {param_name} = {stage.model.parameters[param_name]}\")\n",
    "else:\n",
    "     print(\"  No parameters found in stage model.\")"
   ]
  },
  {
   "cell_type": "code",
   "execution_count": 16,
   "metadata": {},
   "outputs": [
    {
     "name": "stdout",
     "output_type": "stream",
     "text": [
      "State space grids access:\n",
      "  arvl grids:\n",
      "  dcsn grids:\n",
      "  cntn grids:\n"
     ]
    }
   ],
   "source": [
    "# Example 2: Access state space grids\n",
    "print(\"State space grids access:\")\n",
    "if hasattr(stage.model, 'num') and stage.model.num:\n",
    "    state_space = stage.model.num.get('state_space', {})\n",
    "    if state_space:\n",
    "        for perch_name, grids in state_space.items():\n",
    "            print(f\"  {perch_name} grids:\")\n",
    "            grid_data = []\n",
    "            for grid_name, grid in grids.get('grids', {}).items():\n",
    "                if isinstance(grid, np.ndarray):\n",
    "                    grid_data.append((grid_name, grid))\n",
    "                    print(f\"    {grid_name}: {len(grid)} points - Range: [{grid[0]:.2f}, {grid[-1]:.2f}]\")\n",
    "            \n",
    "            # Visualize the first grid we find as an example\n",
    "            if grid_data:\n",
    "                name, grid = grid_data[0]\n",
    "                plt.figure(figsize=(10, 4))\n",
    "                plt.plot(grid, np.zeros_like(grid), 'o', markersize=5)\n",
    "                plt.title(f\"{perch_name}.{name} Grid Points\")\n",
    "                plt.xlabel(f\"{name} value\")\n",
    "                plt.grid(True)\n",
    "                plt.show()"
   ]
  },
  {
   "cell_type": "code",
   "execution_count": 17,
   "metadata": {},
   "outputs": [
    {
     "name": "stdout",
     "output_type": "stream",
     "text": [
      "Setting perch data example:\n",
      "Stage is solvable: True\n",
      "cntn.sol is set: True\n",
      "arvl.dist is set: True\n",
      "\n",
      "Perch data access:\n",
      "cntn.sol type: <class 'dict'>\n",
      "  vlu_cntn: array shape (3,), first value 1.0\n",
      "  lambda_cntn: array shape (3,), first value 0.1\n",
      "arvl.dist type: <class 'numpy.ndarray'>\n",
      "  distribution shape: (3,)\n"
     ]
    },
    {
     "data": {
      "image/png": "[encoded data removed]",
      "text/plain": [
       "<Figure size 800x400 with 1 Axes>"
      ]
     },
     "metadata": {},
     "output_type": "display_data"
    }
   ],
   "source": [
    "# Example 3: Setting and accessing perch data\n",
    "print(\"Setting perch data example:\")\n",
    "\n",
    "# Set some example data for demonstration\n",
    "cntn_sol_data = {\"vlu_cntn\": np.array([1.0, 2.0, 3.0]), \"lambda_cntn\": np.array([0.1, 0.2, 0.3])}\n",
    "arvl_dist_data = np.array([0.2, 0.5, 0.3])  # Some distribution over states\n",
    "\n",
    "# Set data to perches\n",
    "stage.perches[\"cntn\"].sol = cntn_sol_data  # Setting cntn.sol (formerly cntn.up)\n",
    "stage.perches[\"arvl\"].dist = arvl_dist_data  # Setting arvl.dist (formerly arvl.down)\n",
    "\n",
    "# Check if the stage is now solvable\n",
    "stage._check_solvability()\n",
    "print(f\"Stage is solvable: {stage.status_flags['solvable']}\")\n",
    "print(f\"cntn.sol is set: {stage.perches['cntn'].sol is not None}\")  # Check cntn.sol\n",
    "print(f\"arvl.dist is set: {stage.perches['arvl'].dist is not None}\")  # Check arvl.dist\n",
    "\n",
    "# Demonstrate access to perch data\n",
    "print(\"\\nPerch data access:\")\n",
    "print(f\"cntn.sol type: {type(stage.perches['cntn'].sol)}\")\n",
    "if isinstance(stage.perches['cntn'].sol, dict):\n",
    "    for key, value in stage.perches['cntn'].sol.items():\n",
    "        if isinstance(value, np.ndarray):\n",
    "            print(f\"  {key}: array shape {value.shape}, first value {value[0]}\")\n",
    "\n",
    "print(f\"arvl.dist type: {type(stage.perches['arvl'].dist)}\")\n",
    "if isinstance(stage.perches['arvl'].dist, np.ndarray):\n",
    "    print(f\"  distribution shape: {stage.perches['arvl'].dist.shape}\")\n",
    "    \n",
    "    # Visualize the distribution\n",
    "    plt.figure(figsize=(8, 4))\n",
    "    plt.bar(range(len(arvl_dist_data)), arvl_dist_data)\n",
    "    plt.title(\"Example Distribution over Arrival States\")\n",
    "    plt.xlabel(\"State index\")\n",
    "    plt.ylabel(\"Probability\")\n",
    "    plt.grid(True, alpha=0.3)\n",
    "    plt.show()"
   ]
  },
  {
   "cell_type": "markdown",
   "metadata": {},
   "source": [
    "## Advanced Insights into ModCraft Architecture\n",
    "\n",
    "ModCraft's architecture offers several key advantages for economic modeling:\n",
    "\n",
    "### 1. Separation of Model Specification and Solution\n",
    "\n",
    "The separation between mathematical specification and numerical implementation allows economists to focus on model structure without worrying about computational details. This is similar to how Dynare and other tools work, but ModCraft takes this principle further by separating:\n",
    "\n",
    "- **Model specification** (the math dictionary)\n",
    "- **Numerical discretization** (the num dictionary)\n",
    "- **Solution algorithms** (the backward movers)\n",
    "\n",
    "### 2. Flexible Solution Methods\n",
    "\n",
    "The mover architecture enables different solution methods to be implemented as separate components:\n",
    "\n",
    "- **Value function iteration** can be implemented through cntn_to_dcsn operators\n",
    "- **Policy function iteration** can use the same interfaces\n",
    "- **Endogenous grid methods** like those in the DEGM module can be plugged in\n",
    "\n",
    "### 3. Modular Components for Extensibility\n",
    "\n",
    "Each component can be extended or replaced independently:\n",
    "\n",
    "- **New perches** can be added for intermediate steps\n",
    "- **Custom movers** can implement specialized algorithms\n",
    "- **Alternative representation modules** can provide different mathematical or numerical frameworks\n",
    "\n",
    "This modularity makes ModCraft adaptable to a wide range of economic models and solution approaches."
   ]
  },
  {
   "cell_type": "markdown",
   "metadata": {},
   "source": [
    "## Conclusion\n",
    "\n",
    "In this notebook, we've explored the fundamental architecture of ModCraft's stage model system:\n",
    "\n",
    "1. We initialized a stage model from a configuration file\n",
    "2. Examined the symbolic mathematical representation \n",
    "3. Compiled the model into a numerical representation\n",
    "4. Explored how to access various components of the model\n",
    "5. Set example data in the perches to make the stage solvable\n",
    "\n",
    "This architecture provides a powerful framework for building and solving economic models, with clear separation between model specification and solution methods. The modular design allows for extensive customization while maintaining a consistent interface.\n",
    "\n",
    "Next steps might include:\n",
    "- Implementing solvers using whisperers or operators\n",
    "- Extending the model with additional components\n",
    "- Visualizing solutions and simulating model behavior\n",
    "\n",
    "For more examples and detailed documentation, refer to the ModCraft repository."
   ]
  },
  {
   "cell_type": "markdown",
   "metadata": {},
   "source": []
  },
  {
   "cell_type": "code",
   "execution_count": 18,
   "metadata": {},
   "outputs": [
    {
     "name": "stdout",
     "output_type": "stream",
     "text": [
      "Stage graph structure:\n",
      "MultiDiGraph with 3 nodes and 5 edges\n",
      "\n",
      "Graph nodes (perches):\n",
      "['arvl', 'dcsn', 'cntn']\n",
      "\n",
      "Graph edges (movers):\n",
      "[('arvl', 'dcsn'), ('dcsn', 'cntn'), ('dcsn', 'arvl'), ('cntn', 'arvl'), ('cntn', 'dcsn')]\n",
      "Current working directory: /Users/akshayshanker/Research/Repos/modcraft/examples/stage_workflow\n",
      "\n",
      "Visualizing the stage graph:\n",
      "\n",
      "Stage Graph Analysis:\n",
      "Number of nodes (perches): 3\n",
      "Number of edges (movers): 4\n",
      "Note: cntn_to_arvl edge excluded from visualization\n",
      "Graph contains 2 cycles:\n",
      "  Cycle 1: cntn -> dcsn -> cntn\n",
      "  Cycle 2: arvl -> dcsn -> arvl\n"
     ]
    },
    {
     "data": {
      "image/png": "[encoded data removed]",
      "text/plain": [
       "<Figure size 1200x1000 with 1 Axes>"
      ]
     },
     "execution_count": 18,
     "metadata": {},
     "output_type": "execute_result"
    },
    {
     "data": {
      "image/png": "[encoded data removed]",
      "text/plain": [
       "<Figure size 1200x1000 with 1 Axes>"
      ]
     },
     "metadata": {},
     "output_type": "display_data"
    }
   ],
   "source": [
    "print(\"Stage graph structure:\")\n",
    "print(stage.graph)\n",
    "\n",
    "# Print the nodes (perches) in the graph\n",
    "print(\"\\nGraph nodes (perches):\")\n",
    "print(stage.graph.nodes())\n",
    "\n",
    "# Print the edges (movers) in the graph\n",
    "print(\"\\nGraph edges (movers):\")\n",
    "print(stage.graph.edges())\n",
    "print(f\"Current working directory: {os.getcwd()}\")\n",
    "from visualize_stage_graph import visualize_stage_graph\n",
    "# Visualize the graph using the Stage's built-in method\n",
    "print(\"\\nVisualizing the stage graph:\")\n",
    "node_colors = {\n",
    "       'arvl': '#377eb8',    # Blue\n",
    "       'dcsn': '#4daf4a',    # Green\n",
    "       'cntn': '#e41a1c'     # Red\n",
    "   }\n",
    "   \n",
    "# Define custom edge styles\n",
    "edge_styles = {\n",
    "    'forward': {'color': 'darkblue', 'style': 'solid', 'width': 1.5, 'alpha': 0.7},\n",
    "    'backward': {'color': 'darkred', 'style': 'dashed', 'width': 1.5, 'alpha': 0.7}\n",
    "}\n",
    "\n",
    "# Call with custom styling\n",
    "visualize_stage_graph(\n",
    "    stage,\n",
    "    node_color_mapping=node_colors,\n",
    "    edge_style_mapping=edge_styles,\n",
    "    figsize=(12, 10),          # Larger figure size\n",
    "    legend_loc='upper right'   # Move legend to upper right\n",
    ")"
   ]
  }
 ],
 "metadata": {
  "kernelspec": {
   "display_name": "base",
   "language": "python",
   "name": "python3"
  },
  "language_info": {
   "codemirror_mode": {
    "name": "ipython",
    "version": 3
   },
   "file_extension": ".py",
   "mimetype": "text/x-python",
   "name": "python",
   "nbconvert_exporter": "python",
   "pygments_lexer": "ipython3",
   "version": "3.9.13"
  }
 },
 "nbformat": 4,
 "nbformat_minor": 2
}